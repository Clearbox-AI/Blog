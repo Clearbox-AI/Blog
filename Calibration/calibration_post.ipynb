{
 "cells": [
  {
   "cell_type": "code",
   "execution_count": 1,
   "metadata": {
    "pycharm": {
     "name": "#%%\n"
    },
    "tags": []
   },
   "outputs": [],
   "source": [
    "import numpy as np\n",
    "import sklearn\n",
    "from sklearn import metrics\n",
    "from sklearn.pipeline import Pipeline\n",
    "from sklearn.compose import ColumnTransformer\n",
    "from sklearn.preprocessing import OneHotEncoder, KBinsDiscretizer, RobustScaler, LabelEncoder\n",
    "from sklearn.impute import SimpleImputer\n",
    "import pandas as pd\n",
    "import tensorflow\n",
    "from sklearn.model_selection import train_test_split\n",
    "from tensorflow.keras.models import Sequential\n",
    "from tensorflow.keras.layers import Dense\n",
    "import matplotlib.pyplot as plt"
   ]
  },
  {
   "cell_type": "code",
   "execution_count": 2,
   "metadata": {
    "pycharm": {
     "name": "#%%\n"
    }
   },
   "outputs": [],
   "source": [
    "csv_file = 'loans_risk_binary.csv'\n",
    "data = pd.read_csv(csv_file, index_col=False)\n",
    "y = data['loan_risk']\n",
    "X = data.drop(columns=['loan_risk'], axis=1)\n"
   ]
  },
  {
   "cell_type": "markdown",
   "metadata": {},
   "source": [
    "# Data preprocessing\n"
   ]
  },
  {
   "cell_type": "code",
   "execution_count": 312,
   "metadata": {
    "pycharm": {
     "name": "#%%\n"
    }
   },
   "outputs": [],
   "source": [
    "Xtrain, Xtest_val, y_train, y_test_val = train_test_split(X,y, test_size = 0.3)\n",
    "Xtest, Xval, y_test, y_val = train_test_split(Xtest_val,y_test_val, test_size = 0.5)\n",
    "\n",
    "ordinal_features = Xtrain.columns[Xtrain.dtypes!='object']\n",
    "categorical_features = Xtrain.columns[Xtrain.dtypes=='object']\n",
    "ordinal_transformer = Pipeline(steps=[('imputer', SimpleImputer(strategy='median')),\n",
    "                                      ('discretizer', KBinsDiscretizer(n_bins=10, encode='ordinal', strategy='uniform')), \n",
    "                                      ('scaler', RobustScaler())])\n",
    "categorical_transformer = Pipeline(steps=[('imputer', SimpleImputer(strategy='most_frequent')), ('onehot', OneHotEncoder(handle_unknown='ignore'))])\n",
    "\n",
    "column_transformer = ColumnTransformer(transformers=[('num', ordinal_transformer, ordinal_features),\n",
    "                                                     ('cat', categorical_transformer, categorical_features)])\n",
    "column_transformer.fit(Xtrain)\n",
    "X_train = column_transformer.transform(Xtrain)\n",
    "X_test = column_transformer.transform(Xtest)\n",
    "X_val = column_transformer.transform(Xval)\n",
    "y_train_en = (y_train=='Charged Off').astype(int)\n",
    "y_test_en = (y_test=='Charged Off').astype(int)\n",
    "y_val_en = (y_val=='Charged Off').astype(int)"
   ]
  },
  {
   "cell_type": "markdown",
   "metadata": {
    "pycharm": {
     "name": "#%% \n"
    },
    "tags": []
   },
   "source": [
    "# Model training"
   ]
  },
  {
   "cell_type": "code",
   "execution_count": 324,
   "metadata": {
    "pycharm": {
     "name": "#%% \n"
    },
    "tags": []
   },
   "outputs": [
    {
     "name": "stdout",
     "output_type": "stream",
     "text": [
      "Epoch 1/50\n",
      "426/426 [==============================] - 0s 494us/step - loss: 0.4342 - accuracy: 0.8288\n",
      "Epoch 2/50\n",
      "426/426 [==============================] - 0s 513us/step - loss: 0.4045 - accuracy: 0.8414\n",
      "Epoch 3/50\n",
      "426/426 [==============================] - 0s 511us/step - loss: 0.3988 - accuracy: 0.8447\n",
      "Epoch 4/50\n",
      "426/426 [==============================] - 0s 513us/step - loss: 0.3956 - accuracy: 0.8464\n",
      "Epoch 5/50\n",
      "426/426 [==============================] - 0s 504us/step - loss: 0.3932 - accuracy: 0.8478\n",
      "Epoch 6/50\n",
      "426/426 [==============================] - 0s 505us/step - loss: 0.3910 - accuracy: 0.8488\n",
      "Epoch 7/50\n",
      "426/426 [==============================] - 0s 504us/step - loss: 0.3890 - accuracy: 0.8485\n",
      "Epoch 8/50\n",
      "426/426 [==============================] - 0s 508us/step - loss: 0.3874 - accuracy: 0.8500\n",
      "Epoch 9/50\n",
      "426/426 [==============================] - 0s 507us/step - loss: 0.3859 - accuracy: 0.8508\n",
      "Epoch 10/50\n",
      "426/426 [==============================] - 0s 508us/step - loss: 0.3844 - accuracy: 0.8510\n",
      "Epoch 11/50\n",
      "426/426 [==============================] - 0s 514us/step - loss: 0.3830 - accuracy: 0.8522\n",
      "Epoch 12/50\n",
      "426/426 [==============================] - 0s 504us/step - loss: 0.3813 - accuracy: 0.8517\n",
      "Epoch 13/50\n",
      "426/426 [==============================] - 0s 512us/step - loss: 0.3806 - accuracy: 0.8523\n",
      "Epoch 14/50\n",
      "426/426 [==============================] - 0s 513us/step - loss: 0.3796 - accuracy: 0.8529\n",
      "Epoch 15/50\n",
      "426/426 [==============================] - 0s 516us/step - loss: 0.3783 - accuracy: 0.8531\n",
      "Epoch 16/50\n",
      "426/426 [==============================] - 0s 513us/step - loss: 0.3771 - accuracy: 0.8536\n",
      "Epoch 17/50\n",
      "426/426 [==============================] - 0s 519us/step - loss: 0.3764 - accuracy: 0.8542\n",
      "Epoch 18/50\n",
      "426/426 [==============================] - 0s 562us/step - loss: 0.3754 - accuracy: 0.8537\n",
      "Epoch 19/50\n",
      "426/426 [==============================] - 0s 542us/step - loss: 0.3740 - accuracy: 0.8542\n",
      "Epoch 20/50\n",
      "426/426 [==============================] - 0s 546us/step - loss: 0.3734 - accuracy: 0.8546\n",
      "Epoch 21/50\n",
      "426/426 [==============================] - 0s 540us/step - loss: 0.3725 - accuracy: 0.8536\n",
      "Epoch 22/50\n",
      "426/426 [==============================] - 0s 508us/step - loss: 0.3725 - accuracy: 0.8539\n",
      "Epoch 23/50\n",
      "426/426 [==============================] - 0s 515us/step - loss: 0.3715 - accuracy: 0.8550\n",
      "Epoch 24/50\n",
      "426/426 [==============================] - 0s 513us/step - loss: 0.3706 - accuracy: 0.8539\n",
      "Epoch 25/50\n",
      "426/426 [==============================] - 0s 516us/step - loss: 0.3703 - accuracy: 0.8543\n",
      "Epoch 26/50\n",
      "426/426 [==============================] - 0s 505us/step - loss: 0.3691 - accuracy: 0.8554\n",
      "Epoch 27/50\n",
      "426/426 [==============================] - 0s 500us/step - loss: 0.3691 - accuracy: 0.8547\n",
      "Epoch 28/50\n",
      "426/426 [==============================] - 0s 505us/step - loss: 0.3682 - accuracy: 0.8550\n",
      "Epoch 29/50\n",
      "426/426 [==============================] - 0s 529us/step - loss: 0.3676 - accuracy: 0.8554\n",
      "Epoch 30/50\n",
      "426/426 [==============================] - 0s 554us/step - loss: 0.3673 - accuracy: 0.8550\n",
      "Epoch 31/50\n",
      "426/426 [==============================] - 0s 533us/step - loss: 0.3663 - accuracy: 0.8558\n",
      "Epoch 32/50\n",
      "426/426 [==============================] - 0s 545us/step - loss: 0.3661 - accuracy: 0.8555\n",
      "Epoch 33/50\n",
      "426/426 [==============================] - 0s 511us/step - loss: 0.3652 - accuracy: 0.8566\n",
      "Epoch 34/50\n",
      "426/426 [==============================] - 0s 547us/step - loss: 0.3651 - accuracy: 0.8558\n",
      "Epoch 35/50\n",
      "426/426 [==============================] - 0s 522us/step - loss: 0.3647 - accuracy: 0.8567\n",
      "Epoch 36/50\n",
      "426/426 [==============================] - 0s 513us/step - loss: 0.3640 - accuracy: 0.8569\n",
      "Epoch 37/50\n",
      "426/426 [==============================] - 0s 499us/step - loss: 0.3640 - accuracy: 0.8562\n",
      "Epoch 38/50\n",
      "426/426 [==============================] - 0s 528us/step - loss: 0.3636 - accuracy: 0.8560\n",
      "Epoch 39/50\n",
      "426/426 [==============================] - 0s 537us/step - loss: 0.3630 - accuracy: 0.8570\n",
      "Epoch 40/50\n",
      "426/426 [==============================] - 0s 508us/step - loss: 0.3625 - accuracy: 0.8562\n",
      "Epoch 41/50\n",
      "426/426 [==============================] - 0s 519us/step - loss: 0.3620 - accuracy: 0.8564\n",
      "Epoch 42/50\n",
      "426/426 [==============================] - 0s 516us/step - loss: 0.3619 - accuracy: 0.8567\n",
      "Epoch 43/50\n",
      "426/426 [==============================] - 0s 516us/step - loss: 0.3617 - accuracy: 0.8573\n",
      "Epoch 44/50\n",
      "426/426 [==============================] - 0s 515us/step - loss: 0.3611 - accuracy: 0.8575\n",
      "Epoch 45/50\n",
      "426/426 [==============================] - 0s 561us/step - loss: 0.3606 - accuracy: 0.8572\n",
      "Epoch 46/50\n",
      "426/426 [==============================] - 0s 536us/step - loss: 0.3604 - accuracy: 0.8576\n",
      "Epoch 47/50\n",
      "426/426 [==============================] - 0s 512us/step - loss: 0.3598 - accuracy: 0.8585\n",
      "Epoch 48/50\n",
      "426/426 [==============================] - 0s 550us/step - loss: 0.3594 - accuracy: 0.8567\n",
      "Epoch 49/50\n",
      "426/426 [==============================] - 0s 556us/step - loss: 0.3592 - accuracy: 0.8583\n",
      "Epoch 50/50\n",
      "426/426 [==============================] - 0s 513us/step - loss: 0.3588 - accuracy: 0.8579\n",
      "Test set metrics:\n",
      "               precision    recall  f1-score   support\n",
      "\n",
      "           0       0.85      0.98      0.91      4826\n",
      "           1       0.70      0.20      0.31      1014\n",
      "\n",
      "    accuracy                           0.85      5840\n",
      "   macro avg       0.78      0.59      0.61      5840\n",
      "weighted avg       0.83      0.85      0.81      5840\n",
      "\n"
     ]
    }
   ],
   "source": [
    "from tensorflow.keras.wrappers.scikit_learn import KerasClassifier\n",
    "\n",
    "def keras_build():\n",
    "    keras_clf = Sequential()\n",
    "    keras_clf.add(Dense(32, input_shape=[X_train.shape[1]], activation='relu'))\n",
    "    keras_clf.add(Dense(16, activation='relu'))\n",
    "    # keras_clf.add(Dense(8, activation='relu'))\n",
    "    # keras_clf.add(Dense(4, activation='relu'))    \n",
    "    keras_clf.add(Dense(2, activation='softmax'))\n",
    "\n",
    "    keras_clf.compile(optimizer='adam', loss='sparse_categorical_crossentropy', metrics=['accuracy'])\n",
    "\n",
    "    return keras_clf\n",
    "\n",
    "keras_wrapped = KerasClassifier(build_fn=keras_build)\n",
    "keras_wrapped.fit(X_train, y_train_en, epochs=50, batch_size=64)\n",
    "\n",
    "test_predictions = keras_wrapped.predict_proba(X_test).argmax(axis=1)\n",
    "print('Test set metrics:\\n', metrics.classification_report(y_test_en.values, test_predictions))"
   ]
  },
  {
   "cell_type": "markdown",
   "metadata": {},
   "source": [
    "# Plotting the calibration curve"
   ]
  },
  {
   "cell_type": "code",
   "execution_count": 351,
   "metadata": {},
   "outputs": [
    {
     "data": {
      "image/png": "[encoded data removed]",
      "text/plain": [
       "<Figure size 432x288 with 1 Axes>"
      ]
     },
     "metadata": {
      "needs_background": "light"
     },
     "output_type": "display_data"
    }
   ],
   "source": [
    "from sklearn.calibration import calibration_curve\n",
    "prob_pos = keras_wrapped.predict_proba(X_test)[:,1]\n",
    "fraction_of_positives, mean_predicted_value = calibration_curve(y_test_en, prob_pos, n_bins=50, strategy='quantile')\n",
    "plt.plot(np.arange(0,1.1,.10),np.arange(0,1.1,.10),label='perfect_calibration')\n",
    "plt.plot(mean_predicted_value, fraction_of_positives,label='keras_model')\n",
    "plt.axis('square')\n",
    "plt.xlim([0,1])\n",
    "plt.ylim([0,1])\n",
    "plt.xlabel('Mean predicted value')\n",
    "plt.ylabel('Fraction of positives')\n",
    "plt.legend()\n",
    "plt.savefig('not_calibrated.png',dpi=600)"
   ]
  },
  {
   "cell_type": "code",
   "execution_count": 348,
   "metadata": {},
   "outputs": [
    {
     "data": {
      "text/plain": [
       "array([0.00990917, 0.01718493, 0.0220817 , 0.02662825, 0.03076352,\n",
       "       0.03449502, 0.03832061, 0.04194414, 0.04557834, 0.04882894,\n",
       "       0.05217514, 0.05539844, 0.05879493, 0.0624401 , 0.06628353,\n",
       "       0.07021565, 0.07478488, 0.07912592, 0.08334618, 0.08826507,\n",
       "       0.09311898, 0.09761612, 0.10285138, 0.10768484, 0.11338844,\n",
       "       0.11897116, 0.12630272, 0.13312584, 0.14053926, 0.14792948,\n",
       "       0.15629304, 0.16512727, 0.17355238, 0.18231301, 0.19189929,\n",
       "       0.2025944 , 0.21451382, 0.22602684, 0.23948636, 0.25448395,\n",
       "       0.26944531, 0.28662059, 0.30478145, 0.32784619, 0.35631848,\n",
       "       0.39137376, 0.43340692, 0.50910509, 0.76210043, 0.99628937])"
      ]
     },
     "execution_count": 348,
     "metadata": {},
     "output_type": "execute_result"
    }
   ],
   "source": [
    "mean_predicted_value"
   ]
  },
  {
   "cell_type": "code",
   "execution_count": 349,
   "metadata": {},
   "outputs": [
    {
     "data": {
      "text/plain": [
       "(array([2558., 1565.,  806.,  408.,  209.,   68.,   39.,   26.,   17.,\n",
       "         144.]),\n",
       " array([0. , 0.1, 0.2, 0.3, 0.4, 0.5, 0.6, 0.7, 0.8, 0.9, 1. ],\n",
       "       dtype=float32),\n",
       " [<matplotlib.patches.Polygon at 0x7f445d5e1210>])"
      ]
     },
     "execution_count": 349,
     "metadata": {},
     "output_type": "execute_result"
    },
    {
     "data": {
      "image/png": "[encoded data removed]",
      "text/plain": [
       "<Figure size 432x288 with 1 Axes>"
      ]
     },
     "metadata": {
      "needs_background": "light"
     },
     "output_type": "display_data"
    }
   ],
   "source": [
    "plt.hist(prob_pos, range=(0, 1), bins=10,histtype=\"step\", lw=2)"
   ]
  },
  {
   "cell_type": "markdown",
   "metadata": {},
   "source": [
    "# Fitting a calibrated classifier"
   ]
  },
  {
   "cell_type": "code",
   "execution_count": 357,
   "metadata": {},
   "outputs": [
    {
     "data": {
      "text/plain": [
       "CalibratedClassifierCV(base_estimator=<tensorflow.python.keras.wrappers.scikit_learn.KerasClassifier object at 0x7f445ef0c350>,\n",
       "                       cv='prefit', method='isotonic')"
      ]
     },
     "execution_count": 357,
     "metadata": {},
     "output_type": "execute_result"
    }
   ],
   "source": [
    "from sklearn.calibration import CalibratedClassifierCV\n",
    "\n",
    "\n",
    "calibrated_clf = CalibratedClassifierCV(keras_wrapped, cv='prefit',method='isotonic')\n",
    "calibrated_clf.fit(X_val, y_val_en)"
   ]
  },
  {
   "cell_type": "code",
   "execution_count": 358,
   "metadata": {},
   "outputs": [
    {
     "data": {
      "image/png": "[encoded data removed]",
      "text/plain": [
       "<Figure size 432x288 with 1 Axes>"
      ]
     },
     "metadata": {
      "needs_background": "light"
     },
     "output_type": "display_data"
    }
   ],
   "source": [
    "prob_pos = calibrated_clf.predict_proba(X_test)[:,1]\n",
    "fraction_of_positives, mean_predicted_value = calibration_curve(y_test_en, prob_pos, n_bins=50, strategy='quantile')\n",
    "plt.plot(np.arange(0,1.1,.10),np.arange(0,1.1,.10),label='perfect_calibration')\n",
    "plt.plot(mean_predicted_value, fraction_of_positives,label='isotonic_calibration')\n",
    "plt.axis('square')\n",
    "plt.xlim([0,1])\n",
    "plt.ylim([0,1])\n",
    "plt.xlabel('Mean predicted value')\n",
    "plt.ylabel('Fraction of positives')\n",
    "plt.legend()\n",
    "plt.savefig('calibrated.png',dpi=600)"
   ]
  },
  {
   "cell_type": "code",
   "execution_count": 331,
   "metadata": {},
   "outputs": [
    {
     "data": {
      "text/plain": [
       "(array([1.825e+03, 2.040e+03, 1.584e+03, 1.970e+02, 1.000e+00, 0.000e+00,\n",
       "        4.900e+01, 0.000e+00, 2.400e+01, 1.200e+02]),\n",
       " array([0. , 0.1, 0.2, 0.3, 0.4, 0.5, 0.6, 0.7, 0.8, 0.9, 1. ]),\n",
       " [<matplotlib.patches.Polygon at 0x7f445da044d0>])"
      ]
     },
     "execution_count": 331,
     "metadata": {},
     "output_type": "execute_result"
    },
    {
     "data": {
      "image/png": "[encoded data removed]",
      "text/plain": [
       "<Figure size 432x288 with 1 Axes>"
      ]
     },
     "metadata": {
      "needs_background": "light"
     },
     "output_type": "display_data"
    }
   ],
   "source": [
    "plt.hist(prob_pos, range=(0, 1), bins=10,histtype=\"step\", lw=2)"
   ]
  },
  {
   "cell_type": "code",
   "execution_count": 287,
   "metadata": {},
   "outputs": [
    {
     "name": "stdout",
     "output_type": "stream",
     "text": [
      "Test set metrics:\n",
      "               precision    recall  f1-score   support\n",
      "\n",
      "           0       0.86      0.99      0.92      3217\n",
      "           1       0.83      0.24      0.37       677\n",
      "\n",
      "    accuracy                           0.86      3894\n",
      "   macro avg       0.85      0.61      0.65      3894\n",
      "weighted avg       0.86      0.86      0.82      3894\n",
      "\n"
     ]
    }
   ],
   "source": [
    "test_predictions = calibrated_clf.predict_proba(X_test).argmax(axis=1)\n",
    "print('Test set metrics:\\n', metrics.classification_report(y_test_en.values, test_predictions))"
   ]
  },
  {
   "cell_type": "code",
   "execution_count": 354,
   "metadata": {},
   "outputs": [
    {
     "data": {
      "text/plain": [
       "(5840, 38)"
      ]
     },
     "execution_count": 354,
     "metadata": {},
     "output_type": "execute_result"
    }
   ],
   "source": [
    "X_test.shape"
   ]
  },
  {
   "cell_type": "code",
   "execution_count": null,
   "metadata": {},
   "outputs": [],
   "source": []
  }
 ],
 "metadata": {
  "kernelspec": {
   "display_name": "Python 3",
   "language": "python",
   "name": "python3"
  },
  "language_info": {
   "codemirror_mode": {
    "name": "ipython",
    "version": 3
   },
   "file_extension": ".py",
   "mimetype": "text/x-python",
   "name": "python",
   "nbconvert_exporter": "python",
   "pygments_lexer": "ipython3",
   "version": "3.7.9"
  }
 },
 "nbformat": 4,
 "nbformat_minor": 1
}
