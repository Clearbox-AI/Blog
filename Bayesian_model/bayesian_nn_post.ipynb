{
 "cells": [
  {
   "cell_type": "code",
   "execution_count": 3,
   "metadata": {
    "pycharm": {
     "name": "#%%\n"
    },
    "tags": []
   },
   "outputs": [],
   "source": [
    "import matplotlib.pyplot as plt\n",
    "import numpy as np\n",
    "import pandas as pd\n",
    "import seaborn as sns\n",
    "from sklearn.pipeline import Pipeline\n",
    "from sklearn.compose import ColumnTransformer\n",
    "from sklearn.preprocessing import OneHotEncoder, KBinsDiscretizer, RobustScaler, LabelEncoder\n",
    "from sklearn.impute import SimpleImputer\n",
    "from sklearn.model_selection import train_test_split"
   ]
  },
  {
   "cell_type": "code",
   "execution_count": 5,
   "metadata": {
    "pycharm": {
     "name": "#%%\n"
    }
   },
   "outputs": [],
   "source": [
    "csv_file = 'loans_risk_binary.csv'\n",
    "data = pd.read_csv(csv_file, index_col=False)\n",
    "y = data['loan_risk']\n",
    "X = data.drop(columns=['loan_risk'], axis=1)\n"
   ]
  },
  {
   "cell_type": "markdown",
   "metadata": {},
   "source": [
    "# Data preprocessing\n"
   ]
  },
  {
   "cell_type": "code",
   "execution_count": 6,
   "metadata": {
    "pycharm": {
     "name": "#%%\n"
    }
   },
   "outputs": [],
   "source": [
    "Xtrain, Xtest_val, y_train, y_test_val = train_test_split(X,y, test_size = 0.3)\n",
    "Xtest, Xval, y_test, y_val = train_test_split(Xtest_val,y_test_val, test_size = 0.5)\n",
    "\n",
    "ordinal_features = Xtrain.columns[Xtrain.dtypes!='object']\n",
    "categorical_features = Xtrain.columns[Xtrain.dtypes=='object']\n",
    "ordinal_transformer = Pipeline(steps=[('imputer', SimpleImputer(strategy='median')),\n",
    "                                      ('discretizer', KBinsDiscretizer(n_bins=10, encode='ordinal', strategy='uniform')), \n",
    "                                      ('scaler', RobustScaler())])\n",
    "categorical_transformer = Pipeline(steps=[('imputer', SimpleImputer(strategy='most_frequent')), ('onehot', OneHotEncoder(handle_unknown='ignore'))])\n",
    "\n",
    "column_transformer = ColumnTransformer(transformers=[('num', ordinal_transformer, ordinal_features),\n",
    "                                                     ('cat', categorical_transformer, categorical_features)])\n",
    "column_transformer.fit(Xtrain)\n",
    "X_train = column_transformer.transform(Xtrain)\n",
    "X_test = column_transformer.transform(Xtest)\n",
    "X_val = column_transformer.transform(Xval)\n",
    "y_train_en = (y_train=='Charged Off').astype(int).values\n",
    "y_test_en = (y_test=='Charged Off').astype(int).values\n",
    "y_val_en = (y_val=='Charged Off').astype(int).values"
   ]
  },
  {
   "cell_type": "code",
   "execution_count": null,
   "metadata": {
    "pycharm": {
     "name": "#%%\n"
    }
   },
   "outputs": [],
   "source": []
  },
  {
   "cell_type": "markdown",
   "metadata": {
    "pycharm": {
     "name": "#%% \n"
    },
    "tags": []
   },
   "source": [
    "# PyMC3 Model training"
   ]
  },
  {
   "cell_type": "code",
   "execution_count": 7,
   "metadata": {
    "pycharm": {
     "name": "#%% \n"
    },
    "tags": []
   },
   "outputs": [
    {
     "name": "stderr",
     "output_type": "stream",
     "text": [
      "WARNING (theano.tensor.blas): Using NumPy C-API based implementation for BLAS functions.\n",
      "/home/gillus/anaconda3/lib/python3.7/site-packages/dask/config.py:161: YAMLLoadWarning: calling yaml.load() without Loader=... is deprecated, as the default Loader is unsafe. Please read https://msg.pyyaml.org/load for full details.\n",
      "  data = yaml.load(f.read()) or {}\n",
      "/home/gillus/anaconda3/lib/python3.7/site-packages/distributed/config.py:20: YAMLLoadWarning: calling yaml.load() without Loader=... is deprecated, as the default Loader is unsafe. Please read https://msg.pyyaml.org/load for full details.\n",
      "  defaults = yaml.load(f)\n"
     ]
    }
   ],
   "source": [
    "import pymc3 as pm\n",
    "import pymc3\n",
    "from pymc3.theanof import set_tt_rng, MRG_RandomStreams\n",
    "set_tt_rng(MRG_RandomStreams(42))\n",
    "\n",
    "import theano.tensor as T\n",
    "import theano\n",
    "floatX = theano.config.floatX\n",
    "\n",
    "def construct_nn(ann_input, nn_labels):\n",
    "    n_hidden = 4\n",
    "    # Weight inizialization\n",
    "    init_1 = np.random.randn(X_train.shape[1], n_hidden).astype(floatX)\n",
    "    init_out = np.random.randn(n_hidden).astype(floatX)\n",
    "\n",
    "    with pm.Model() as neural_network:\n",
    "    \n",
    "        # Prior distribution for input weights\n",
    "        weights_in_1 = pm.Normal('w_in_1', 0., sd=1.,\n",
    "                                 shape=(X_train.shape[1], n_hidden),\n",
    "                                 testval=init_1)\n",
    "\n",
    "        # Activation hidden layer\n",
    "        act_1 = pm.math.tanh(pm.math.dot(ann_input,\n",
    "                                         weights_in_1))\n",
    "\n",
    "        # Prior distribution for output weights\n",
    "        weights_1_out = pm.Normal('w_1_out', 0., sd=1.,\n",
    "                                  shape=(n_hidden,),\n",
    "                                  testval=init_out)\n",
    "\n",
    "\n",
    "        # Output activation\n",
    "        act_out = pm.math.sigmoid(pm.math.dot(act_1,\n",
    "                                              weights_1_out))\n",
    "\n",
    "        # Binary classification -> Bernoulli likelihood\n",
    "        out = pm.Bernoulli('out',\n",
    "                           act_out,\n",
    "                           observed=nn_labels,\n",
    "                           total_size=y_train_en.shape[0] \n",
    "                          )\n",
    "    return neural_network\n",
    "\n",
    "\n",
    "nn_input = theano.shared(X_train)\n",
    "nn_labels = theano.shared(y_train_en)\n",
    "neural_network = construct_nn(nn_input, nn_labels)"
   ]
  },
  {
   "cell_type": "code",
   "execution_count": null,
   "metadata": {
    "pycharm": {
     "name": "#%% \n"
    },
    "tags": []
   },
   "outputs": [],
   "source": []
  },
  {
   "cell_type": "code",
   "execution_count": 6,
   "metadata": {
    "pycharm": {
     "name": "#%% \n"
    },
    "tags": []
   },
   "outputs": [
    {
     "name": "stderr",
     "output_type": "stream",
     "text": [
      "Average Loss = 10,987: 100%|██████████| 25000/25000 [16:49<00:00, 24.77it/s] \n",
      "Finished [100%]: Average Loss = 10,987\n"
     ]
    },
    {
     "name": "stdout",
     "output_type": "stream",
     "text": [
      "CPU times: user 1h 21min 12s, sys: 1h 39min 3s, total: 3h 15s\n",
      "Wall time: 16min 54s\n"
     ]
    }
   ],
   "source": [
    "%%time\n",
    "\n",
    "with neural_network:\n",
    "    approx = pm.fit(n=25000, method=pm.ADVI())"
   ]
  },
  {
   "cell_type": "code",
   "execution_count": 12,
   "metadata": {
    "pycharm": {
     "name": "#%% \n"
    },
    "tags": []
   },
   "outputs": [
    {
     "data": {
      "image/png": "[encoded data removed]",
      "text/plain": [
       "<Figure size 432x288 with 1 Axes>"
      ]
     },
     "metadata": {
      "needs_background": "light"
     },
     "output_type": "display_data"
    }
   ],
   "source": [
    "plt.plot(approx.hist)\n",
    "plt.xlabel('n_iter')\n",
    "plt.ylabel('Average loss')\n",
    "plt.savefig('loss.png', dpi=600)"
   ]
  },
  {
   "cell_type": "markdown",
   "metadata": {},
   "source": [
    "# Model scoring and metrics "
   ]
  },
  {
   "cell_type": "code",
   "execution_count": 56,
   "metadata": {},
   "outputs": [
    {
     "name": "stdout",
     "output_type": "stream",
     "text": [
      "              precision    recall  f1-score   support\n",
      "\n",
      "           0       0.84      1.00      0.91      4815\n",
      "           1       0.90      0.11      0.19      1025\n",
      "\n",
      "    accuracy                           0.84      5840\n",
      "   macro avg       0.87      0.55      0.55      5840\n",
      "weighted avg       0.85      0.84      0.79      5840\n",
      "\n"
     ]
    }
   ],
   "source": [
    "from sklearn.metrics import classification_report\n",
    "\n",
    "# create symbolic input\n",
    "x = T.matrix('X')\n",
    "# symbolic number of samples is supported, we build vectorized posterior on the fly\n",
    "n = T.iscalar('n')\n",
    "\n",
    "# Do not forget test_values or set theano.config.compute_test_value = 'off'\n",
    "#x.tag.test_value = np.empty_like(X_train[:10])\n",
    "#n.tag.test_value = 100\n",
    "_sample_proba = approx.sample_node(neural_network.out.distribution.p, size=n,\n",
    "                                   more_replacements={nn_input:x})\n",
    "\n",
    "sample_proba = theano.function([x, n], _sample_proba)\n",
    "\n",
    "\n",
    "n_samples = 100 # Number of model samples for a prediction\n",
    "pred = sample_proba(X_test, n_samples).mean(0) > 0.5\n",
    "print(classification_report(y_test_en,pred))"
   ]
  },
  {
   "cell_type": "markdown",
   "metadata": {},
   "source": [
    "# Inspecting the model distributions"
   ]
  },
  {
   "cell_type": "code",
   "execution_count": 31,
   "metadata": {},
   "outputs": [],
   "source": [
    "trace = approx.sample()"
   ]
  },
  {
   "cell_type": "code",
   "execution_count": 38,
   "metadata": {},
   "outputs": [
    {
     "data": {
      "image/png": "[encoded data removed]",
      "text/plain": [
       "<Figure size 432x288 with 1 Axes>"
      ]
     },
     "metadata": {
      "needs_background": "light"
     },
     "output_type": "display_data"
    }
   ],
   "source": [
    "sns.kdeplot(trace['w_1_out'][:,0],label='w1o')\n",
    "sns.kdeplot(trace['w_1_out'][:,1],label='w2o')\n",
    "sns.kdeplot(trace['w_1_out'][:,2],label='w3o')\n",
    "sns.kdeplot(trace['w_1_out'][:,3],label='w4o')\n",
    "plt.savefig('w_pdf.png',dpi=600)"
   ]
  },
  {
   "cell_type": "code",
   "execution_count": 39,
   "metadata": {},
   "outputs": [],
   "source": [
    "out = sample_proba(X_test[100:220,:], 1000)"
   ]
  },
  {
   "cell_type": "code",
   "execution_count": 43,
   "metadata": {},
   "outputs": [
    {
     "data": {
      "image/png": "[encoded data removed]",
      "text/plain": [
       "<Figure size 432x288 with 1 Axes>"
      ]
     },
     "metadata": {
      "needs_background": "light"
     },
     "output_type": "display_data"
    }
   ],
   "source": [
    "sns.kdeplot(out[:,out.mean(axis=0).argmax()],label='sigmoid_output')\n",
    "plt.savefig('sigmoid_pdf.png',dpi=600)"
   ]
  },
  {
   "cell_type": "code",
   "execution_count": null,
   "metadata": {},
   "outputs": [],
   "source": []
  },
  {
   "cell_type": "code",
   "execution_count": null,
   "metadata": {},
   "outputs": [],
   "source": []
  }
 ],
 "metadata": {
  "kernelspec": {
   "display_name": "odsc2019",
   "language": "python",
   "name": "odsc2019"
  },
  "language_info": {
   "codemirror_mode": {
    "name": "ipython",
    "version": 3
   },
   "file_extension": ".py",
   "mimetype": "text/x-python",
   "name": "python",
   "nbconvert_exporter": "python",
   "pygments_lexer": "ipython3",
   "version": "3.7.5"
  }
 },
 "nbformat": 4,
 "nbformat_minor": 1
}
